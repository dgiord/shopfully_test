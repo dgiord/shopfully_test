{
 "cells": [
  {
   "cell_type": "markdown",
   "metadata": {},
   "source": [
    "# Part 2 - Script writing\n",
    "This python notebook:\n",
    "- uses the get_weather_data function to make the API call to OpenWeather;\n",
    "- uses psycopg2 to connect to a PostgreSQL database (in this case it was hosted on my localhost);\n",
    "- uses a for loop which iterates over the values of the 'cities' list, and for each city, it appends the relevant values to a list of dictionaries, which is converted to a dataframe item\n",
    "- uses another for loop to iterate over the dataframe's rows"
   ]
  },
  {
   "cell_type": "code",
   "execution_count": 105,
   "metadata": {},
   "outputs": [],
   "source": [
    "import requests\n",
    "import json\n",
    "import psycopg2\n",
    "from datetime import datetime, timezone\n",
    "import pandas as pd"
   ]
  },
  {
   "cell_type": "code",
   "execution_count": 100,
   "metadata": {},
   "outputs": [],
   "source": [
    "key = ''#redacted for github\n",
    "base_url = \"http://api.openweathermap.org/data/2.5/weather?q={}&appid={}\"\n",
    "conn = psycopg2.connect(\"dbname=weatherdb user=dgiord password=pass1 host=localhost port=5432\")\n",
    "conn.autocommit=True\n",
    "cur = conn.cursor()"
   ]
  },
  {
   "cell_type": "code",
   "execution_count": 101,
   "metadata": {},
   "outputs": [],
   "source": [
    "def get_weather_data(city):\n",
    "    try:\n",
    "        response = requests.get(base_url.format(city,key)) #http get request to OpenWeather API\n",
    "        if response.status_code == 200:                    #in case of positive http response (200), returns the json output\n",
    "            return response.json()\n",
    "        else:\n",
    "            print (\"Failed to fetch data for city {city}. Status code: {responde.status_code}\")\n",
    "            return None\n",
    "    except Exception as e:\n",
    "        print(\"Error occurred:{e}\")\n",
    "        return None"
   ]
  },
  {
   "cell_type": "markdown",
   "metadata": {},
   "source": [
    "query_city: inserts the city id and name in the city table. In case the city_id is already present in the table, the value is ignored. This query can be skipped as long as the only 3 cities we consider are Milano, Bologna and Cagliari, however it's present in case of future data needs.\\\n",
    "\\\n",
    "query_weather: inserts values in the weather table. Although the weather_id column is a serial and should auto-increase, I encountered problems when having some values in the table alread. Therefore, I included a subquery that either adds 1 to the maximum value of the column, or, if it only finds NULL values, adds 0 as weather_id."
   ]
  },
  {
   "cell_type": "code",
   "execution_count": 104,
   "metadata": {},
   "outputs": [],
   "source": [
    "query_city = \"\"\"INSERT INTO public.city\n",
    "(city_id, city_name)\n",
    "VALUES (%s, %s)\n",
    "ON CONFLICT (city_id) DO NOTHING;\n",
    "\"\"\"\n",
    "query_weather = \"\"\"INSERT INTO public.weather\n",
    "    (weather_id, city_id, \"timestamp\", temperature, min_temperature, max_temperature, humidity, weather_condition, wind_speed)\n",
    "    VALUES (\n",
    "    (SELECT COALESCE(MAX(weather_id), 0) + 1 from public.weather), %s, %s, %s, %s, %s, %s, %s, %s);\"\"\"\n",
    "\n",
    "cities = ['Milano', 'Bologna', 'Cagliari'] #can be expanded in case of future data needs"
   ]
  },
  {
   "cell_type": "code",
   "execution_count": 103,
   "metadata": {},
   "outputs": [],
   "source": [
    "weather_list = []\n",
    "for city in cities:\n",
    "    weather_data = get_weather_data(city)\n",
    "    \n",
    "    weather_list.append({\n",
    "        'city_id': weather_data['id'],\n",
    "        'city_name': weather_data['name'],\n",
    "        'timestamp': datetime.fromtimestamp(weather_data['dt'], tz=timezone.utc).strftime('%Y-%m-%d %H:%M:%S'),\n",
    "        'temperature': weather_data['main']['temp'],\n",
    "        'min_temperature': weather_data['main']['temp_min'],\n",
    "        'max_temperature': weather_data['main']['temp_max'],\n",
    "        'humidity': weather_data['main']['humidity'],\n",
    "        'weather_condition': weather_data['weather'][0]['main'],\n",
    "        'wind_speed': weather_data['wind']['speed']\n",
    "    })\n",
    "\n",
    "weather_df = pd.DataFrame(weather_list)"
   ]
  },
  {
   "cell_type": "code",
   "execution_count": 120,
   "metadata": {},
   "outputs": [],
   "source": [
    "for index,row in weather_df.iterrows():\n",
    "    values_city = (row['city_id'], row['city_name'])\n",
    "    values_weather = (row['city_id'], row['timestamp'], row['temperature'], row['min_temperature'], \n",
    "                      row['max_temperature'], row['humidity'], row['weather_condition'], row['wind_speed'])\n",
    "\n",
    "    cur.execute(query_city, values_city)\n",
    "    cur.execute(query_weather, values_weather)"
   ]
  },
  {
   "cell_type": "markdown",
   "metadata": {},
   "source": [
    "### The script can be considered complete here. The section below is used to answer the questions from Part 1 using Python instead of SQL queries."
   ]
  },
  {
   "cell_type": "markdown",
   "metadata": {},
   "source": [
    "As the weather_df dataframe created in the script is reset each time the script is run (therefore it will always only contain 3 rows), I create a new dataframe with a SQL query on my local database. The output is simply a join of all columns in both tables, which gives us a dataframe with all the info we have in the db."
   ]
  },
  {
   "cell_type": "code",
   "execution_count": 218,
   "metadata": {},
   "outputs": [
    {
     "data": {
      "text/html": [
       "<div>\n",
       "<style scoped>\n",
       "    .dataframe tbody tr th:only-of-type {\n",
       "        vertical-align: middle;\n",
       "    }\n",
       "\n",
       "    .dataframe tbody tr th {\n",
       "        vertical-align: top;\n",
       "    }\n",
       "\n",
       "    .dataframe thead th {\n",
       "        text-align: right;\n",
       "    }\n",
       "</style>\n",
       "<table border=\"1\" class=\"dataframe\">\n",
       "  <thead>\n",
       "    <tr style=\"text-align: right;\">\n",
       "      <th></th>\n",
       "      <th>weather_id</th>\n",
       "      <th>city_id</th>\n",
       "      <th>city_name</th>\n",
       "      <th>timestamp</th>\n",
       "      <th>temperature</th>\n",
       "      <th>min_temperature</th>\n",
       "      <th>max_temperature</th>\n",
       "      <th>humidity</th>\n",
       "      <th>weather_condition</th>\n",
       "      <th>wind_speed</th>\n",
       "    </tr>\n",
       "  </thead>\n",
       "  <tbody>\n",
       "    <tr>\n",
       "      <th>0</th>\n",
       "      <td>1</td>\n",
       "      <td>3173435</td>\n",
       "      <td>Milan</td>\n",
       "      <td>2024-10-21 08:18:40+00:00</td>\n",
       "      <td>293.60</td>\n",
       "      <td>292.14</td>\n",
       "      <td>294.85</td>\n",
       "      <td>75</td>\n",
       "      <td>Clouds</td>\n",
       "      <td>0.45</td>\n",
       "    </tr>\n",
       "    <tr>\n",
       "      <th>1</th>\n",
       "      <td>2</td>\n",
       "      <td>3181927</td>\n",
       "      <td>Bologna</td>\n",
       "      <td>2024-10-21 08:26:41+00:00</td>\n",
       "      <td>291.00</td>\n",
       "      <td>290.40</td>\n",
       "      <td>293.92</td>\n",
       "      <td>87</td>\n",
       "      <td>Clouds</td>\n",
       "      <td>1.03</td>\n",
       "    </tr>\n",
       "    <tr>\n",
       "      <th>2</th>\n",
       "      <td>3</td>\n",
       "      <td>2525471</td>\n",
       "      <td>Provincia di Cagliari</td>\n",
       "      <td>2024-10-21 08:25:13+00:00</td>\n",
       "      <td>295.86</td>\n",
       "      <td>295.30</td>\n",
       "      <td>296.20</td>\n",
       "      <td>66</td>\n",
       "      <td>Clouds</td>\n",
       "      <td>3.60</td>\n",
       "    </tr>\n",
       "    <tr>\n",
       "      <th>3</th>\n",
       "      <td>4</td>\n",
       "      <td>3173435</td>\n",
       "      <td>Milan</td>\n",
       "      <td>2024-10-21 08:29:28+00:00</td>\n",
       "      <td>293.75</td>\n",
       "      <td>292.26</td>\n",
       "      <td>294.85</td>\n",
       "      <td>75</td>\n",
       "      <td>Clouds</td>\n",
       "      <td>0.45</td>\n",
       "    </tr>\n",
       "    <tr>\n",
       "      <th>4</th>\n",
       "      <td>5</td>\n",
       "      <td>3181927</td>\n",
       "      <td>Bologna</td>\n",
       "      <td>2024-10-21 08:31:34+00:00</td>\n",
       "      <td>291.15</td>\n",
       "      <td>290.95</td>\n",
       "      <td>293.92</td>\n",
       "      <td>87</td>\n",
       "      <td>Clouds</td>\n",
       "      <td>1.03</td>\n",
       "    </tr>\n",
       "  </tbody>\n",
       "</table>\n",
       "</div>"
      ],
      "text/plain": [
       "   weather_id  city_id              city_name                 timestamp  \\\n",
       "0           1  3173435                  Milan 2024-10-21 08:18:40+00:00   \n",
       "1           2  3181927                Bologna 2024-10-21 08:26:41+00:00   \n",
       "2           3  2525471  Provincia di Cagliari 2024-10-21 08:25:13+00:00   \n",
       "3           4  3173435                  Milan 2024-10-21 08:29:28+00:00   \n",
       "4           5  3181927                Bologna 2024-10-21 08:31:34+00:00   \n",
       "\n",
       "   temperature  min_temperature  max_temperature  humidity weather_condition  \\\n",
       "0       293.60           292.14           294.85        75            Clouds   \n",
       "1       291.00           290.40           293.92        87            Clouds   \n",
       "2       295.86           295.30           296.20        66            Clouds   \n",
       "3       293.75           292.26           294.85        75            Clouds   \n",
       "4       291.15           290.95           293.92        87            Clouds   \n",
       "\n",
       "   wind_speed  \n",
       "0        0.45  \n",
       "1        1.03  \n",
       "2        3.60  \n",
       "3        0.45  \n",
       "4        1.03  "
      ]
     },
     "execution_count": 218,
     "metadata": {},
     "output_type": "execute_result"
    }
   ],
   "source": [
    "from sqlalchemy import create_engine\n",
    "#I'm using SQLAlchemy since it's the only connectable supported by pandas\n",
    "engine = create_engine(f\"postgresql://dgiord:{'pass1'}@{'localhost'}:{5432}/{'weatherdb'}\") \n",
    "query = \"\"\"\n",
    "SELECT \n",
    "    w.weather_id, \n",
    "    c.city_id,\n",
    "    c.city_name,\n",
    "    w.timestamp, \n",
    "    w.temperature, \n",
    "    w.min_temperature, \n",
    "    w.max_temperature, \n",
    "    w.humidity, \n",
    "    w.weather_condition, \n",
    "    w.wind_speed \n",
    "FROM public.weather w\n",
    "JOIN public.city c \n",
    "ON w.city_id = c.city_id;\n",
    "\"\"\"\n",
    "\n",
    "df = pd.read_sql(query,engine)\n",
    "df.head()"
   ]
  },
  {
   "cell_type": "markdown",
   "metadata": {},
   "source": [
    "##### Distinct weather conditions in a given period"
   ]
  },
  {
   "cell_type": "code",
   "execution_count": 229,
   "metadata": {},
   "outputs": [
    {
     "name": "stdout",
     "output_type": "stream",
     "text": [
      "Unique conditions in the period 2024-10-01 - 2024-11-01: 2\n"
     ]
    }
   ],
   "source": [
    "#the period can be set by changing these variables. I'm creating a newdf filtered dataframe as all questions refer to a given period, and it will be used for all questions\n",
    "start_date = '2024-10-01'\n",
    "end_date = '2024-11-01'\n",
    "newdf = df[(df['timestamp'] >= start_date) & (df['timestamp']<= end_date)]\n",
    "\n",
    "# nunique displays the number of unique entries for a specific column, in this case weather_condition\n",
    "unique = newdf['weather_condition'].nunique()\n",
    "print(f\"Unique conditions in the period {start_date} - {end_date}: {unique}\")"
   ]
  },
  {
   "cell_type": "markdown",
   "metadata": {},
   "source": [
    "##### Most common conditions in a given period by city"
   ]
  },
  {
   "cell_type": "code",
   "execution_count": 171,
   "metadata": {},
   "outputs": [
    {
     "name": "stdout",
     "output_type": "stream",
     "text": [
      "city_name              weather_condition\n",
      "Bologna                Clouds               4\n",
      "Milan                  Clear                2\n",
      "                       Clouds               2\n",
      "Provincia di Cagliari  Clouds               4\n",
      "dtype: int64\n"
     ]
    }
   ],
   "source": [
    "# group by city and weather condition and count the occurrance for each combination of city and condition\n",
    "weather_ranking = newdf.groupby(['city_name','weather_condition'])\n",
    "weather_ranking = weather_ranking.size().reset_index(name='count')\n",
    "\n",
    "print(weather_ranking)"
   ]
  },
  {
   "cell_type": "markdown",
   "metadata": {},
   "source": [
    "##### Temperature averages in a given period per city"
   ]
  },
  {
   "cell_type": "code",
   "execution_count": 173,
   "metadata": {},
   "outputs": [
    {
     "name": "stdout",
     "output_type": "stream",
     "text": [
      "               city_name  avg_temp\n",
      "0                Bologna  291.4025\n",
      "1                  Milan  294.2575\n",
      "2  Provincia di Cagliari  295.9900\n"
     ]
    }
   ],
   "source": [
    "# group by city and temperature and find the average\n",
    "avg_temp = newdf.groupby('city_name')['temperature'].mean().reset_index(name='avg_temp')\n",
    "\n",
    "print (avg_temp)"
   ]
  },
  {
   "cell_type": "markdown",
   "metadata": {},
   "source": [
    "##### City with the highest temperature in a given period"
   ]
  },
  {
   "cell_type": "code",
   "execution_count": 183,
   "metadata": {},
   "outputs": [
    {
     "data": {
      "text/html": [
       "<div>\n",
       "<style scoped>\n",
       "    .dataframe tbody tr th:only-of-type {\n",
       "        vertical-align: middle;\n",
       "    }\n",
       "\n",
       "    .dataframe tbody tr th {\n",
       "        vertical-align: top;\n",
       "    }\n",
       "\n",
       "    .dataframe thead th {\n",
       "        text-align: right;\n",
       "    }\n",
       "</style>\n",
       "<table border=\"1\" class=\"dataframe\">\n",
       "  <thead>\n",
       "    <tr style=\"text-align: right;\">\n",
       "      <th></th>\n",
       "      <th>weather_id</th>\n",
       "      <th>city_id</th>\n",
       "      <th>city_name</th>\n",
       "      <th>timestamp</th>\n",
       "      <th>temperature</th>\n",
       "      <th>min_temperature</th>\n",
       "      <th>max_temperature</th>\n",
       "      <th>humidity</th>\n",
       "      <th>weather_condition</th>\n",
       "      <th>wind_speed</th>\n",
       "    </tr>\n",
       "  </thead>\n",
       "  <tbody>\n",
       "    <tr>\n",
       "      <th>8</th>\n",
       "      <td>9</td>\n",
       "      <td>2525471</td>\n",
       "      <td>Provincia di Cagliari</td>\n",
       "      <td>2024-10-21 10:06:13+00:00</td>\n",
       "      <td>296.12</td>\n",
       "      <td>295.34</td>\n",
       "      <td>296.43</td>\n",
       "      <td>66</td>\n",
       "      <td>Clouds</td>\n",
       "      <td>4.12</td>\n",
       "    </tr>\n",
       "  </tbody>\n",
       "</table>\n",
       "</div>"
      ],
      "text/plain": [
       "   weather_id  city_id              city_name                 timestamp  \\\n",
       "8           9  2525471  Provincia di Cagliari 2024-10-21 10:06:13+00:00   \n",
       "\n",
       "   temperature  min_temperature  max_temperature  humidity weather_condition  \\\n",
       "8       296.12           295.34           296.43        66            Clouds   \n",
       "\n",
       "   wind_speed  \n",
       "8        4.12  "
      ]
     },
     "execution_count": 183,
     "metadata": {},
     "output_type": "execute_result"
    }
   ],
   "source": [
    "# nlargest displays the entire rows for the top N values (in this case, 1) of a specific column (in this case, temperature)\n",
    "max_temp = newdf.nlargest(1,'temperature')\n",
    "\n",
    "max_temp\n"
   ]
  },
  {
   "cell_type": "markdown",
   "metadata": {},
   "source": [
    "##### City with the highest daily temperature variation in a given period"
   ]
  },
  {
   "cell_type": "code",
   "execution_count": 228,
   "metadata": {},
   "outputs": [
    {
     "data": {
      "text/html": [
       "<div>\n",
       "<style scoped>\n",
       "    .dataframe tbody tr th:only-of-type {\n",
       "        vertical-align: middle;\n",
       "    }\n",
       "\n",
       "    .dataframe tbody tr th {\n",
       "        vertical-align: top;\n",
       "    }\n",
       "\n",
       "    .dataframe thead th {\n",
       "        text-align: right;\n",
       "    }\n",
       "</style>\n",
       "<table border=\"1\" class=\"dataframe\">\n",
       "  <thead>\n",
       "    <tr style=\"text-align: right;\">\n",
       "      <th></th>\n",
       "      <th>weather_id</th>\n",
       "      <th>city_id</th>\n",
       "      <th>city_name</th>\n",
       "      <th>timestamp</th>\n",
       "      <th>temperature</th>\n",
       "      <th>min_temperature</th>\n",
       "      <th>max_temperature</th>\n",
       "      <th>humidity</th>\n",
       "      <th>weather_condition</th>\n",
       "      <th>wind_speed</th>\n",
       "      <th>temp_diff</th>\n",
       "    </tr>\n",
       "  </thead>\n",
       "  <tbody>\n",
       "    <tr>\n",
       "      <th>1</th>\n",
       "      <td>2</td>\n",
       "      <td>3181927</td>\n",
       "      <td>Bologna</td>\n",
       "      <td>2024-10-21</td>\n",
       "      <td>291.0</td>\n",
       "      <td>290.4</td>\n",
       "      <td>293.92</td>\n",
       "      <td>87</td>\n",
       "      <td>Clouds</td>\n",
       "      <td>1.03</td>\n",
       "      <td>3.52</td>\n",
       "    </tr>\n",
       "  </tbody>\n",
       "</table>\n",
       "</div>"
      ],
      "text/plain": [
       "   weather_id  city_id city_name   timestamp  temperature  min_temperature  \\\n",
       "1           2  3181927   Bologna  2024-10-21        291.0            290.4   \n",
       "\n",
       "   max_temperature  humidity weather_condition  wind_speed  temp_diff  \n",
       "1           293.92        87            Clouds        1.03       3.52  "
      ]
     },
     "execution_count": 228,
     "metadata": {},
     "output_type": "execute_result"
    }
   ],
   "source": [
    "# we create a new column called temp_diff, which is the difference between the minimum and maximum temperature, and display the highest value using nlargest\n",
    "\n",
    "newdf['temp_diff'] = newdf['max_temperature'] - newdf['min_temperature']\n",
    "max_temp_diff = newdf.nlargest(1,'temp_diff')\n",
    "max_temp_diff"
   ]
  },
  {
   "cell_type": "markdown",
   "metadata": {},
   "source": [
    "##### City with the strongest wind in a given period"
   ]
  },
  {
   "cell_type": "code",
   "execution_count": 184,
   "metadata": {},
   "outputs": [
    {
     "data": {
      "text/html": [
       "<div>\n",
       "<style scoped>\n",
       "    .dataframe tbody tr th:only-of-type {\n",
       "        vertical-align: middle;\n",
       "    }\n",
       "\n",
       "    .dataframe tbody tr th {\n",
       "        vertical-align: top;\n",
       "    }\n",
       "\n",
       "    .dataframe thead th {\n",
       "        text-align: right;\n",
       "    }\n",
       "</style>\n",
       "<table border=\"1\" class=\"dataframe\">\n",
       "  <thead>\n",
       "    <tr style=\"text-align: right;\">\n",
       "      <th></th>\n",
       "      <th>weather_id</th>\n",
       "      <th>city_id</th>\n",
       "      <th>city_name</th>\n",
       "      <th>timestamp</th>\n",
       "      <th>temperature</th>\n",
       "      <th>min_temperature</th>\n",
       "      <th>max_temperature</th>\n",
       "      <th>humidity</th>\n",
       "      <th>weather_condition</th>\n",
       "      <th>wind_speed</th>\n",
       "    </tr>\n",
       "  </thead>\n",
       "  <tbody>\n",
       "    <tr>\n",
       "      <th>8</th>\n",
       "      <td>9</td>\n",
       "      <td>2525471</td>\n",
       "      <td>Provincia di Cagliari</td>\n",
       "      <td>2024-10-21 10:06:13+00:00</td>\n",
       "      <td>296.12</td>\n",
       "      <td>295.34</td>\n",
       "      <td>296.43</td>\n",
       "      <td>66</td>\n",
       "      <td>Clouds</td>\n",
       "      <td>4.12</td>\n",
       "    </tr>\n",
       "  </tbody>\n",
       "</table>\n",
       "</div>"
      ],
      "text/plain": [
       "   weather_id  city_id              city_name                 timestamp  \\\n",
       "8           9  2525471  Provincia di Cagliari 2024-10-21 10:06:13+00:00   \n",
       "\n",
       "   temperature  min_temperature  max_temperature  humidity weather_condition  \\\n",
       "8       296.12           295.34           296.43        66            Clouds   \n",
       "\n",
       "   wind_speed  \n",
       "8        4.12  "
      ]
     },
     "execution_count": 184,
     "metadata": {},
     "output_type": "execute_result"
    }
   ],
   "source": [
    "# nlargest displays the entire rows for the top N values (in this case, 1) of a specific column (in this case, wind speed)\n",
    "max_wind = newdf.nlargest(1,'wind_speed')\n",
    "\n",
    "max_wind"
   ]
  }
 ],
 "metadata": {
  "kernelspec": {
   "display_name": "Python 3",
   "language": "python",
   "name": "python3"
  },
  "language_info": {
   "codemirror_mode": {
    "name": "ipython",
    "version": 3
   },
   "file_extension": ".py",
   "mimetype": "text/x-python",
   "name": "python",
   "nbconvert_exporter": "python",
   "pygments_lexer": "ipython3",
   "version": "3.11.9"
  }
 },
 "nbformat": 4,
 "nbformat_minor": 2
}
